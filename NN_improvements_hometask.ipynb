{
  "nbformat": 4,
  "nbformat_minor": 0,
  "metadata": {
    "colab": {
      "provenance": [],
      "gpuType": "T4"
    },
    "kernelspec": {
      "name": "python3",
      "display_name": "Python 3"
    },
    "language_info": {
      "name": "python"
    },
    "accelerator": "GPU"
  },
  "cells": [
    {
      "cell_type": "markdown",
      "source": [
        "# Домашнее задание\n",
        "\n",
        "В этом домашнем задании вы обучите полносвязную нейронную сеть для решения задачи классификации на датасете CIFAR-10."
      ],
      "metadata": {
        "id": "I6ymSdFRMVhr"
      }
    },
    {
      "cell_type": "markdown",
      "source": [
        "Это домашнее задание оформлено в не совсем традиционном формате. Не хочется заставлять вас копировать код. Вы будете менять уже существующую архитектуру, а затем отвечать на вопросы."
      ],
      "metadata": {
        "id": "x8hIUNzwgV3s"
      }
    },
    {
      "cell_type": "markdown",
      "source": [
        "## Задание 1\n",
        "\n",
        "Запустите данный изначально код и замерьте качество (accuracy) на тестовых данных. Ответ округлите до целого числа.\n",
        "\n",
        "## Задание 2\n",
        "\n",
        "Добавьте еще один полносвязный слой (перед выходным) из 100 нейронов + функцию активации ReLU и запустите обучение. Выберите в ответе accuracy, наиболее близкую к полученной на тесте.\n",
        "\n",
        "## Задание 3\n",
        "\n",
        "Теперь обучите полносвязную сеть с несколькими линейными слоями с числом нейронов: 1024, 512, 256, 128, 64 соответственно + функцией ReLU на выходе из каждого внутреннего слоя. В ответе - accuracy, округленная до целого числа.\n",
        "\n",
        "## Задание 4\n",
        "\n",
        "К архитектуре из предыдущего задания добавьте Dropout(0.2) перед слоями из 1024 и 256 нейронов. Увеличилась ли accuracy по сравнению с предыдущим заданием?\n",
        "\n",
        "## Задание 5\n",
        "\n",
        "Уберите Dropout, но добавьте BatchNorm перед входом в те же линейные слои. Увеличилась ли accuracy по сравнению с заданием 3?\n",
        "\n",
        "## Задание 6\n",
        "\n",
        "Теперь пробуйте что угодно:\n",
        "* разное число линейных слоев\n",
        "* разные функции активации (вместо ReLU)\n",
        "* комбинации Dropout / BatchNorm\n",
        "* можете попробовать умные инициализации весов и другие трюки из урока\n",
        "\n",
        "Цель - добиться наибольшей accuracy на тесте."
      ],
      "metadata": {
        "id": "zKUC8Iqn0K04"
      }
    },
    {
      "cell_type": "code",
      "source": [
        "import torch\n",
        "import torch.nn as nn\n",
        "import torchvision\n",
        "import torchvision.transforms as transforms\n",
        "import random\n",
        "import numpy as np\n",
        "\n",
        "def seed():\n",
        "  np.random.seed(0)\n",
        "  random.seed(0)\n",
        "  torch.manual_seed(0)\n",
        "\n",
        "seed()"
      ],
      "metadata": {
        "id": "klXu4u9XHNtG"
      },
      "execution_count": 1,
      "outputs": []
    },
    {
      "cell_type": "code",
      "source": [
        "# Check Device configuration\n",
        "device = torch.device('cuda' if torch.cuda.is_available() else 'cpu')\n",
        "\n",
        "# Define Hyper-parameters\n",
        "input_size = 3072\n",
        "num_classes = 10\n",
        "num_epochs = 10\n",
        "batch_size = 32\n",
        "learning_rate = 0.001"
      ],
      "metadata": {
        "id": "4ZugxMyOHKvw"
      },
      "execution_count": 2,
      "outputs": []
    },
    {
      "cell_type": "code",
      "source": [
        "# MNIST dataset\n",
        "transform = transforms.Compose(\n",
        "    [transforms.ToTensor(),\n",
        "     transforms.Normalize((0.5, 0.5, 0.5), (0.5, 0.5, 0.5))])\n",
        "\n",
        "train_dataset = torchvision.datasets.CIFAR10(root='../../data',\n",
        "                                           train=True,\n",
        "                                           transform=transform,\n",
        "                                           download=True)\n",
        "\n",
        "test_dataset = torchvision.datasets.CIFAR10(root='../../data',\n",
        "                                          train=False,\n",
        "                                          transform=transform)"
      ],
      "metadata": {
        "id": "esjzDEyIHNvE",
        "outputId": "d74b09fa-a62e-4012-91bf-fcf99b836586",
        "colab": {
          "base_uri": "https://localhost:8080/"
        }
      },
      "execution_count": 3,
      "outputs": [
        {
          "output_type": "stream",
          "name": "stdout",
          "text": [
            "Downloading https://www.cs.toronto.edu/~kriz/cifar-10-python.tar.gz to ../../data/cifar-10-python.tar.gz\n"
          ]
        },
        {
          "output_type": "stream",
          "name": "stderr",
          "text": [
            "100%|██████████| 170498071/170498071 [00:02<00:00, 70747589.81it/s]\n"
          ]
        },
        {
          "output_type": "stream",
          "name": "stdout",
          "text": [
            "Extracting ../../data/cifar-10-python.tar.gz to ../../data\n"
          ]
        }
      ]
    },
    {
      "cell_type": "code",
      "source": [
        "# Data loader\n",
        "seed()\n",
        "train_loader = torch.utils.data.DataLoader(dataset=train_dataset,\n",
        "                                           batch_size=batch_size,\n",
        "                                           shuffle=True)\n",
        "\n",
        "test_loader = torch.utils.data.DataLoader(dataset=test_dataset,\n",
        "                                          batch_size=batch_size,\n",
        "                                          shuffle=False)"
      ],
      "metadata": {
        "id": "wbNr0TWOHVRI"
      },
      "execution_count": 4,
      "outputs": []
    },
    {
      "cell_type": "code",
      "source": [
        "#1\n",
        "\n",
        "# Fully connected neural network\n",
        "class NeuralNet(nn.Module):\n",
        "    def __init__(self, input_size, num_classes):\n",
        "        super(NeuralNet, self).__init__()\n",
        "        seed()\n",
        "        self.fc1 = nn.Linear(input_size, 1000)\n",
        "        self.relu = nn.ReLU()\n",
        "        self.fc2 = nn.Linear(1000, num_classes)\n",
        "#        self.apply(self._init_weights)\n",
        "\n",
        "    def _init_weights(self, module): # метод для различных \"умных\" инициализаций весов\n",
        "        seed()\n",
        "        if isinstance(module, nn.Linear):\n",
        "            module.weight.data.normal_(mean=0.0, std=0.15)\n",
        "            if module.bias is not None:\n",
        "                module.bias.data.zero_()\n",
        "\n",
        "    def forward(self, x):\n",
        "        out = self.fc1(x)\n",
        "        out = self.relu(out)\n",
        "        out = self.fc2(out)\n",
        "        return out\n",
        "\n",
        "model = NeuralNet(input_size, num_classes).to(device)"
      ],
      "metadata": {
        "id": "eo2rzAFTHXZo"
      },
      "execution_count": 5,
      "outputs": []
    },
    {
      "cell_type": "code",
      "source": [
        "#2\n",
        "\n",
        "# Fully connected neural network\n",
        "class NeuralNet(nn.Module):\n",
        "    def __init__(self, input_size, num_classes):\n",
        "        super(NeuralNet, self).__init__()\n",
        "        seed()\n",
        "        self.fc1 = nn.Linear(input_size, 100)\n",
        "        self.relu = nn.ReLU()\n",
        "        self.fc2 = nn.Linear(100, 1000)  # Добавленный слой\n",
        "        self.fc3 = nn.Linear(1000, num_classes)\n",
        "        # self.fc2 = nn.Linear(1000, num_classes)\n",
        "#        self.apply(self._init_weights)\n",
        "\n",
        "    def _init_weights(self, module): # метод для различных \"умных\" инициализаций весов\n",
        "        seed()\n",
        "        if isinstance(module, nn.Linear):\n",
        "            module.weight.data.normal_(mean=0.0, std=0.15)\n",
        "            if module.bias is not None:\n",
        "                module.bias.data.zero_()\n",
        "\n",
        "    def forward(self, x):\n",
        "        out = self.fc1(x)\n",
        "        out = self.relu(out)\n",
        "        out = self.fc2(out)  # Применение второго полносвязного слоя\n",
        "        out = self.relu(out)  # Применение ReLU\n",
        "        out = self.fc3(out)\n",
        "        # out = self.fc2(out)\n",
        "        return out\n",
        "\n",
        "model = NeuralNet(input_size, num_classes).to(device)"
      ],
      "metadata": {
        "id": "oaUIMBl4P89H"
      },
      "execution_count": 42,
      "outputs": []
    },
    {
      "cell_type": "code",
      "source": [
        "#3\n",
        "\n",
        "# Fully connected neural network\n",
        "class NeuralNet(nn.Module):\n",
        "    def __init__(self, input_size, num_classes):\n",
        "        super(NeuralNet, self).__init__()\n",
        "        seed()\n",
        "        self.fc1 = nn.Linear(input_size, 1024)\n",
        "        self.relu = nn.ReLU()\n",
        "        self.fc2 = nn.Linear(1024, 512)  # Добавленный слой\n",
        "        self.fc3 = nn.Linear(512, 256)  # Добавленный слой\n",
        "        self.fc4 = nn.Linear(256, 128)  # Добавленный слой\n",
        "        self.fc5 = nn.Linear(128, 64)  # Добавленный слой\n",
        "        self.fc6 = nn.Linear(64 , num_classes)\n",
        "        # self.fc2 = nn.Linear(1000, num_classes)\n",
        "#        self.apply(self._init_weights)\n",
        "\n",
        "    def _init_weights(self, module): # метод для различных \"умных\" инициализаций весов\n",
        "        seed()\n",
        "        if isinstance(module, nn.Linear):\n",
        "            module.weight.data.normal_(mean=0.0, std=0.15)\n",
        "            if module.bias is not None:\n",
        "                module.bias.data.zero_()\n",
        "\n",
        "    def forward(self, x):\n",
        "        out = self.fc1(x)\n",
        "        out = self.relu(out)\n",
        "        out = self.fc2(out)  # Применение второго полносвязного слоя\n",
        "        out = self.relu(out)  # Применение ReLU\n",
        "        out = self.fc3(out)\n",
        "        out = self.relu(out)\n",
        "        out = self.fc4(out)\n",
        "        out = self.relu(out)\n",
        "        out = self.fc5(out)\n",
        "        out = self.relu(out)\n",
        "        out = self.fc6(out)\n",
        "        # out = self.fc2(out)\n",
        "        return out\n",
        "\n",
        "model = NeuralNet(input_size, num_classes).to(device)"
      ],
      "metadata": {
        "id": "VG7gSM7oUbFU"
      },
      "execution_count": 52,
      "outputs": []
    },
    {
      "cell_type": "code",
      "source": [
        "#4\n",
        "\n",
        "# Fully connected neural network\n",
        "class NeuralNet(nn.Module):\n",
        "    def __init__(self, input_size, num_classes):\n",
        "        super(NeuralNet, self).__init__()\n",
        "        seed()\n",
        "        self.fc1 = nn.Linear(input_size, 1024)\n",
        "        self.relu = nn.ReLU()\n",
        "        self.dropout1 = nn.Dropout(0.2)\n",
        "        self.fc2 = nn.Linear(1024, 512)  # Добавленный слой\n",
        "        self.fc3 = nn.Linear(512, 256)  # Добавленный слой\n",
        "        self.dropout2 = nn.Dropout(0.2)\n",
        "        self.fc4 = nn.Linear(256, 128)  # Добавленный слой\n",
        "        self.fc5 = nn.Linear(128, 64)  # Добавленный слой\n",
        "        self.fc6 = nn.Linear(64 , num_classes)\n",
        "        # self.fc2 = nn.Linear(1000, num_classes)\n",
        "#        self.apply(self._init_weights)\n",
        "\n",
        "    def _init_weights(self, module): # метод для различных \"умных\" инициализаций весов\n",
        "        seed()\n",
        "        if isinstance(module, nn.Linear):\n",
        "            module.weight.data.normal_(mean=0.0, std=0.15)\n",
        "            if module.bias is not None:\n",
        "                module.bias.data.zero_()\n",
        "\n",
        "    def forward(self, x):\n",
        "        out = self.fc1(x)\n",
        "        out = self.relu(out)\n",
        "        x = self.dropout1(x)\n",
        "        out = self.fc2(out)  # Применение второго полносвязного слоя\n",
        "        out = self.relu(out)  # Применение ReLU\n",
        "        out = self.fc3(out)\n",
        "        out = self.relu(out)\n",
        "        x = self.dropout2(x)\n",
        "        out = self.fc4(out)\n",
        "        out = self.relu(out)\n",
        "        out = self.fc5(out)\n",
        "        out = self.relu(out)\n",
        "        out = self.fc6(out)\n",
        "        # out = self.fc2(out)\n",
        "        return out\n",
        "\n",
        "model = NeuralNet(input_size, num_classes).to(device)"
      ],
      "metadata": {
        "id": "1j1Iuf0SW9hp"
      },
      "execution_count": 64,
      "outputs": []
    },
    {
      "cell_type": "code",
      "source": [
        "model"
      ],
      "metadata": {
        "id": "SUyBhEPgeCxr",
        "outputId": "0e7692c8-ef9d-4642-a1a1-ad94a4383759",
        "colab": {
          "base_uri": "https://localhost:8080/"
        }
      },
      "execution_count": 65,
      "outputs": [
        {
          "output_type": "execute_result",
          "data": {
            "text/plain": [
              "NeuralNet(\n",
              "  (fc1): Linear(in_features=3072, out_features=1024, bias=True)\n",
              "  (relu): ReLU()\n",
              "  (dropout1): Dropout(p=0.2, inplace=False)\n",
              "  (fc2): Linear(in_features=1024, out_features=512, bias=True)\n",
              "  (fc3): Linear(in_features=512, out_features=256, bias=True)\n",
              "  (dropout2): Dropout(p=0.2, inplace=False)\n",
              "  (fc4): Linear(in_features=256, out_features=128, bias=True)\n",
              "  (fc5): Linear(in_features=128, out_features=64, bias=True)\n",
              "  (fc6): Linear(in_features=64, out_features=10, bias=True)\n",
              ")"
            ]
          },
          "metadata": {},
          "execution_count": 65
        }
      ]
    },
    {
      "cell_type": "code",
      "source": [
        "# Loss and optimizer\n",
        "criterion = nn.CrossEntropyLoss()\n",
        "optimizer = torch.optim.Adam(model.parameters(), lr=learning_rate)"
      ],
      "metadata": {
        "id": "7pwBBTACHa5i"
      },
      "execution_count": 66,
      "outputs": []
    },
    {
      "cell_type": "code",
      "execution_count": 67,
      "metadata": {
        "id": "amZzGJCmFnpp",
        "outputId": "f7201951-a3ad-47bd-a0a9-b7ab2e12bb65",
        "colab": {
          "base_uri": "https://localhost:8080/"
        }
      },
      "outputs": [
        {
          "output_type": "stream",
          "name": "stdout",
          "text": [
            "Epoch [1/10], Step [100/1563], Loss: 2.1384\n",
            "Epoch [1/10], Step [200/1563], Loss: 1.9654\n",
            "Epoch [1/10], Step [300/1563], Loss: 1.8427\n",
            "Epoch [1/10], Step [400/1563], Loss: 1.7306\n",
            "Epoch [1/10], Step [500/1563], Loss: 1.8088\n",
            "Epoch [1/10], Step [600/1563], Loss: 1.9099\n",
            "Epoch [1/10], Step [700/1563], Loss: 1.6062\n",
            "Epoch [1/10], Step [800/1563], Loss: 1.6677\n",
            "Epoch [1/10], Step [900/1563], Loss: 1.6634\n",
            "Epoch [1/10], Step [1000/1563], Loss: 1.5353\n",
            "Epoch [1/10], Step [1100/1563], Loss: 1.8368\n",
            "Epoch [1/10], Step [1200/1563], Loss: 1.5921\n",
            "Epoch [1/10], Step [1300/1563], Loss: 1.5909\n",
            "Epoch [1/10], Step [1400/1563], Loss: 1.5677\n",
            "Epoch [1/10], Step [1500/1563], Loss: 1.3738\n",
            "Epoch [2/10], Step [100/1563], Loss: 1.4467\n",
            "Epoch [2/10], Step [200/1563], Loss: 1.4907\n",
            "Epoch [2/10], Step [300/1563], Loss: 1.5804\n",
            "Epoch [2/10], Step [400/1563], Loss: 1.8280\n",
            "Epoch [2/10], Step [500/1563], Loss: 1.5132\n",
            "Epoch [2/10], Step [600/1563], Loss: 1.5849\n",
            "Epoch [2/10], Step [700/1563], Loss: 1.4461\n",
            "Epoch [2/10], Step [800/1563], Loss: 1.6563\n",
            "Epoch [2/10], Step [900/1563], Loss: 1.4877\n",
            "Epoch [2/10], Step [1000/1563], Loss: 1.2303\n",
            "Epoch [2/10], Step [1100/1563], Loss: 1.4678\n",
            "Epoch [2/10], Step [1200/1563], Loss: 1.4834\n",
            "Epoch [2/10], Step [1300/1563], Loss: 1.6805\n",
            "Epoch [2/10], Step [1400/1563], Loss: 1.4374\n",
            "Epoch [2/10], Step [1500/1563], Loss: 1.3601\n",
            "Epoch [3/10], Step [100/1563], Loss: 1.4338\n",
            "Epoch [3/10], Step [200/1563], Loss: 1.6315\n",
            "Epoch [3/10], Step [300/1563], Loss: 1.3469\n",
            "Epoch [3/10], Step [400/1563], Loss: 1.2943\n",
            "Epoch [3/10], Step [500/1563], Loss: 1.1255\n",
            "Epoch [3/10], Step [600/1563], Loss: 1.7241\n",
            "Epoch [3/10], Step [700/1563], Loss: 1.0774\n",
            "Epoch [3/10], Step [800/1563], Loss: 1.5896\n",
            "Epoch [3/10], Step [900/1563], Loss: 1.1722\n",
            "Epoch [3/10], Step [1000/1563], Loss: 1.4735\n",
            "Epoch [3/10], Step [1100/1563], Loss: 1.4965\n",
            "Epoch [3/10], Step [1200/1563], Loss: 1.0362\n",
            "Epoch [3/10], Step [1300/1563], Loss: 1.1606\n",
            "Epoch [3/10], Step [1400/1563], Loss: 1.2055\n",
            "Epoch [3/10], Step [1500/1563], Loss: 1.3399\n",
            "Epoch [4/10], Step [100/1563], Loss: 1.2701\n",
            "Epoch [4/10], Step [200/1563], Loss: 1.4956\n",
            "Epoch [4/10], Step [300/1563], Loss: 1.5495\n",
            "Epoch [4/10], Step [400/1563], Loss: 1.0573\n",
            "Epoch [4/10], Step [500/1563], Loss: 1.2835\n",
            "Epoch [4/10], Step [600/1563], Loss: 1.2521\n",
            "Epoch [4/10], Step [700/1563], Loss: 1.4790\n",
            "Epoch [4/10], Step [800/1563], Loss: 1.5728\n",
            "Epoch [4/10], Step [900/1563], Loss: 1.0237\n",
            "Epoch [4/10], Step [1000/1563], Loss: 0.8708\n",
            "Epoch [4/10], Step [1100/1563], Loss: 1.0828\n",
            "Epoch [4/10], Step [1200/1563], Loss: 1.1038\n",
            "Epoch [4/10], Step [1300/1563], Loss: 1.2266\n",
            "Epoch [4/10], Step [1400/1563], Loss: 1.4420\n",
            "Epoch [4/10], Step [1500/1563], Loss: 0.9900\n",
            "Epoch [5/10], Step [100/1563], Loss: 1.5049\n",
            "Epoch [5/10], Step [200/1563], Loss: 0.7659\n",
            "Epoch [5/10], Step [300/1563], Loss: 1.2392\n",
            "Epoch [5/10], Step [400/1563], Loss: 1.0371\n",
            "Epoch [5/10], Step [500/1563], Loss: 0.9907\n",
            "Epoch [5/10], Step [600/1563], Loss: 0.8424\n",
            "Epoch [5/10], Step [700/1563], Loss: 1.1538\n",
            "Epoch [5/10], Step [800/1563], Loss: 0.9852\n",
            "Epoch [5/10], Step [900/1563], Loss: 1.4377\n",
            "Epoch [5/10], Step [1000/1563], Loss: 1.2949\n",
            "Epoch [5/10], Step [1100/1563], Loss: 1.6496\n",
            "Epoch [5/10], Step [1200/1563], Loss: 1.3013\n",
            "Epoch [5/10], Step [1300/1563], Loss: 0.7432\n",
            "Epoch [5/10], Step [1400/1563], Loss: 1.1866\n",
            "Epoch [5/10], Step [1500/1563], Loss: 1.0438\n",
            "Epoch [6/10], Step [100/1563], Loss: 0.9466\n",
            "Epoch [6/10], Step [200/1563], Loss: 0.9898\n",
            "Epoch [6/10], Step [300/1563], Loss: 0.7835\n",
            "Epoch [6/10], Step [400/1563], Loss: 0.8492\n",
            "Epoch [6/10], Step [500/1563], Loss: 0.9656\n",
            "Epoch [6/10], Step [600/1563], Loss: 1.1896\n",
            "Epoch [6/10], Step [700/1563], Loss: 1.1951\n",
            "Epoch [6/10], Step [800/1563], Loss: 1.0757\n",
            "Epoch [6/10], Step [900/1563], Loss: 1.2093\n",
            "Epoch [6/10], Step [1000/1563], Loss: 1.2427\n",
            "Epoch [6/10], Step [1100/1563], Loss: 1.2462\n",
            "Epoch [6/10], Step [1200/1563], Loss: 1.0526\n",
            "Epoch [6/10], Step [1300/1563], Loss: 1.1044\n",
            "Epoch [6/10], Step [1400/1563], Loss: 1.2493\n",
            "Epoch [6/10], Step [1500/1563], Loss: 1.2598\n",
            "Epoch [7/10], Step [100/1563], Loss: 1.0928\n",
            "Epoch [7/10], Step [200/1563], Loss: 1.0297\n",
            "Epoch [7/10], Step [300/1563], Loss: 0.9847\n",
            "Epoch [7/10], Step [400/1563], Loss: 1.1259\n",
            "Epoch [7/10], Step [500/1563], Loss: 1.4069\n",
            "Epoch [7/10], Step [600/1563], Loss: 1.3803\n",
            "Epoch [7/10], Step [700/1563], Loss: 1.0101\n",
            "Epoch [7/10], Step [800/1563], Loss: 0.9798\n",
            "Epoch [7/10], Step [900/1563], Loss: 0.9492\n",
            "Epoch [7/10], Step [1000/1563], Loss: 1.0613\n",
            "Epoch [7/10], Step [1100/1563], Loss: 1.2216\n",
            "Epoch [7/10], Step [1200/1563], Loss: 0.9798\n",
            "Epoch [7/10], Step [1300/1563], Loss: 1.3017\n",
            "Epoch [7/10], Step [1400/1563], Loss: 0.8811\n",
            "Epoch [7/10], Step [1500/1563], Loss: 0.9776\n",
            "Epoch [8/10], Step [100/1563], Loss: 0.9975\n",
            "Epoch [8/10], Step [200/1563], Loss: 1.0076\n",
            "Epoch [8/10], Step [300/1563], Loss: 0.6136\n",
            "Epoch [8/10], Step [400/1563], Loss: 1.0126\n",
            "Epoch [8/10], Step [500/1563], Loss: 0.6846\n",
            "Epoch [8/10], Step [600/1563], Loss: 0.8187\n",
            "Epoch [8/10], Step [700/1563], Loss: 1.1951\n",
            "Epoch [8/10], Step [800/1563], Loss: 1.0017\n",
            "Epoch [8/10], Step [900/1563], Loss: 0.9289\n",
            "Epoch [8/10], Step [1000/1563], Loss: 1.1307\n",
            "Epoch [8/10], Step [1100/1563], Loss: 0.9841\n",
            "Epoch [8/10], Step [1200/1563], Loss: 1.2196\n",
            "Epoch [8/10], Step [1300/1563], Loss: 1.3562\n",
            "Epoch [8/10], Step [1400/1563], Loss: 1.0455\n",
            "Epoch [8/10], Step [1500/1563], Loss: 0.8014\n",
            "Epoch [9/10], Step [100/1563], Loss: 0.7678\n",
            "Epoch [9/10], Step [200/1563], Loss: 1.1751\n",
            "Epoch [9/10], Step [300/1563], Loss: 1.0216\n",
            "Epoch [9/10], Step [400/1563], Loss: 0.8137\n",
            "Epoch [9/10], Step [500/1563], Loss: 1.1523\n",
            "Epoch [9/10], Step [600/1563], Loss: 0.9774\n",
            "Epoch [9/10], Step [700/1563], Loss: 0.7203\n",
            "Epoch [9/10], Step [800/1563], Loss: 0.9286\n",
            "Epoch [9/10], Step [900/1563], Loss: 0.9072\n",
            "Epoch [9/10], Step [1000/1563], Loss: 0.7482\n",
            "Epoch [9/10], Step [1100/1563], Loss: 0.9967\n",
            "Epoch [9/10], Step [1200/1563], Loss: 1.2184\n",
            "Epoch [9/10], Step [1300/1563], Loss: 1.0091\n",
            "Epoch [9/10], Step [1400/1563], Loss: 0.8550\n",
            "Epoch [9/10], Step [1500/1563], Loss: 0.8166\n",
            "Epoch [10/10], Step [100/1563], Loss: 1.0092\n",
            "Epoch [10/10], Step [200/1563], Loss: 0.9180\n",
            "Epoch [10/10], Step [300/1563], Loss: 0.7117\n",
            "Epoch [10/10], Step [400/1563], Loss: 0.4627\n",
            "Epoch [10/10], Step [500/1563], Loss: 0.9781\n",
            "Epoch [10/10], Step [600/1563], Loss: 1.0411\n",
            "Epoch [10/10], Step [700/1563], Loss: 1.2081\n",
            "Epoch [10/10], Step [800/1563], Loss: 1.0425\n",
            "Epoch [10/10], Step [900/1563], Loss: 0.9182\n",
            "Epoch [10/10], Step [1000/1563], Loss: 0.5642\n",
            "Epoch [10/10], Step [1100/1563], Loss: 0.8391\n",
            "Epoch [10/10], Step [1200/1563], Loss: 1.0949\n",
            "Epoch [10/10], Step [1300/1563], Loss: 0.8392\n",
            "Epoch [10/10], Step [1400/1563], Loss: 1.1650\n",
            "Epoch [10/10], Step [1500/1563], Loss: 0.7122\n"
          ]
        }
      ],
      "source": [
        "seed()\n",
        "\n",
        "loss_log = []\n",
        "\n",
        "# Train the model\n",
        "total_step = len(train_loader)\n",
        "for epoch in range(num_epochs):\n",
        "    for i, (images, labels) in enumerate(train_loader):\n",
        "        # Move tensors to the configured device\n",
        "        images = images.reshape(-1, 32*32*3).to(device)\n",
        "        labels = labels.to(device)\n",
        "\n",
        "        # Forward pass\n",
        "        outputs = model(images)\n",
        "        loss = criterion(outputs, labels)\n",
        "\n",
        "        # Backprpagation and optimization\n",
        "        optimizer.zero_grad()\n",
        "        loss.backward()\n",
        "        optimizer.step()\n",
        "\n",
        "        if (i+1) % 100 == 0:\n",
        "            print ('Epoch [{}/{}], Step [{}/{}], Loss: {:.4f}'\n",
        "                   .format(epoch+1, num_epochs, i+1, total_step, loss.item()))\n",
        "            loss_log.append(loss.data.cpu().numpy())"
      ]
    },
    {
      "cell_type": "code",
      "source": [
        "from matplotlib import pyplot as plt\n",
        "\n",
        "plt.figure(figsize=(10,8))\n",
        "plt.plot(loss_log)"
      ],
      "metadata": {
        "id": "kSbm3gSAFomK",
        "outputId": "d3991612-29d7-4c65-bb51-f7cf8f06d6bb",
        "colab": {
          "base_uri": "https://localhost:8080/",
          "height": 694
        }
      },
      "execution_count": 68,
      "outputs": [
        {
          "output_type": "execute_result",
          "data": {
            "text/plain": [
              "[<matplotlib.lines.Line2D at 0x7bb5d93a77c0>]"
            ]
          },
          "metadata": {},
          "execution_count": 68
        },
        {
          "output_type": "display_data",
          "data": {
            "text/plain": [
              "<Figure size 1000x800 with 1 Axes>"
            ],
            "image/png": "[encoded data removed]"
          },
          "metadata": {}
        }
      ]
    },
    {
      "cell_type": "code",
      "source": [
        "seed()\n",
        "\n",
        "# Test the model\n",
        "# In the test phase, don't need to compute gradients (for memory efficiency)\n",
        "with torch.no_grad():\n",
        "    correct = 0\n",
        "    total = 0\n",
        "    for images, labels in test_loader:\n",
        "        images = images.reshape(-1, 32*32*3).to(device)\n",
        "        labels = labels.to(device)\n",
        "        outputs = model(images)\n",
        "        _, predicted = torch.max(outputs.data, 1)\n",
        "        total += labels.size(0)\n",
        "        correct += (predicted == labels).sum().item()\n",
        "\n",
        "    print('Accuracy of the network on the test images: {} %'.format(100 * correct / total))\n",
        "\n",
        "# Save the model checkpoint\n",
        "torch.save(model.state_dict(), 'model.ckpt')"
      ],
      "metadata": {
        "id": "yqbF_dRiHfQf",
        "outputId": "d7c948b9-8465-4eeb-e1dd-fe2bec1a9f14",
        "colab": {
          "base_uri": "https://localhost:8080/"
        }
      },
      "execution_count": 69,
      "outputs": [
        {
          "output_type": "stream",
          "name": "stdout",
          "text": [
            "Accuracy of the network on the test images: 53.8 %\n"
          ]
        }
      ]
    }
  ]
}