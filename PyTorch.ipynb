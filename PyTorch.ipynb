{
  "nbformat": 4,
  "nbformat_minor": 0,
  "metadata": {
    "colab": {
      "provenance": []
    },
    "kernelspec": {
      "name": "python3",
      "display_name": "Python 3"
    },
    "language_info": {
      "name": "python"
    }
  },
  "cells": [
    {
      "cell_type": "code",
      "execution_count": 1,
      "metadata": {
        "id": "0Fuu0LWpB2Np"
      },
      "outputs": [],
      "source": [
        "import torch\n",
        "from torchvision import transforms\n",
        "from torch.utils.data import DataLoader\n",
        "import numpy as np"
      ]
    },
    {
      "cell_type": "markdown",
      "source": [
        "### Нормализация данных в PyTorch"
      ],
      "metadata": {
        "id": "b19NenR2Fwye"
      }
    },
    {
      "cell_type": "code",
      "source": [
        "# Создание примера набора данных\n",
        "\n",
        "class CustomDataset(torch.utils.data.Dataset):\n",
        "    def __init__(self, data):\n",
        "        self.data = data\n",
        "\n",
        "    def __len__(self):\n",
        "        return len(self.data)\n",
        "\n",
        "    def __getitem__(self, idx):\n",
        "        return self.data[idx]\n",
        "\n",
        "# Генерация примера данных\n",
        "data = np.random.randn(100, 3)  # Пример входных данных размерности 100x3\n",
        "\n",
        "# Преобразование numpy массива в тензор\n",
        "data = torch.tensor(data, dtype=torch.float32)\n",
        "\n",
        "# -- Вариант 1 --\n",
        "\n",
        "# Считаем среднее и std:\n",
        "\n",
        "means = data.mean(dim=0, keepdim=True)\n",
        "stds = data.std(dim=0, keepdim=True)\n",
        "normalized_data = (data - means) / stds\n",
        "\n",
        "# Создание экземпляра Dataset\n",
        "dataset = CustomDataset(normalized_data)\n",
        "\n",
        "# -- Вариант 2 --\n",
        "\n",
        "# Создание экземпляра Dataset\n",
        "dataset = CustomDataset(data)\n",
        "\n",
        "# Применение нормализации с использованием torchvision.transforms\n",
        "transform = transforms.Compose([transforms.Normalize(mean=data.mean(dim=0), std=data.std(dim=0))])\n",
        "\n",
        "# Применение преобразования к набору данных\n",
        "dataset.transform = transform\n",
        "\n",
        "# Использование DataLoader для итерации по нормализованным данным\n",
        "dataloader = DataLoader(dataset, batch_size=4, shuffle=True)"
      ],
      "metadata": {
        "id": "MLJ6JpcrCAJu"
      },
      "execution_count": 2,
      "outputs": []
    },
    {
      "cell_type": "markdown",
      "source": [
        "### Инициализация весов в PyTorch"
      ],
      "metadata": {
        "id": "8-XMdMHsF3t-"
      }
    },
    {
      "cell_type": "code",
      "source": [
        "import torch\n",
        "import torch.nn as nn\n",
        "\n",
        "# Задаем размерности входа и выхода для линейного слоя\n",
        "input_size = 64\n",
        "output_size = 128\n",
        "\n",
        "# Создаем линейный слой\n",
        "linear_layer = nn.Linear(input_size, output_size)\n",
        "\n",
        "\n",
        "# Применяем Xavier инициализацию к весам этого слоя\n",
        "nn.init.xavier_uniform_(linear_layer.weight)\n",
        "\n",
        "# Применяем He инициализацию к весам этого слоя с равномерным распределением\n",
        "nn.init.kaiming_uniform_(model.fc.weight, mode='fan_in', nonlinearity='relu')\n",
        "\n",
        "# Применяем He инициализацию к весам этого слоя с нормальным распределением\n",
        "nn.init.kaiming_normal_(model.fc.weight, mode='fan_in', nonlinearity='relu')"
      ],
      "metadata": {
        "id": "pCPQ0CHrCAMJ"
      },
      "execution_count": null,
      "outputs": []
    },
    {
      "cell_type": "markdown",
      "source": [
        "### Weight decay в PyTorch"
      ],
      "metadata": {
        "id": "y3sDrwJoGJ_k"
      }
    },
    {
      "cell_type": "code",
      "source": [
        "#Задаем оптимизатор с параметром weight_decay (для применения L2 регуляризации)\n",
        "\n",
        "optimizer = optim.SGD(model.parameters(), lr=0.01, weight_decay=0.001)"
      ],
      "metadata": {
        "id": "2dIMP2-pCAOI"
      },
      "execution_count": null,
      "outputs": []
    },
    {
      "cell_type": "markdown",
      "source": [
        "### Gradient Clipping в PyTorch"
      ],
      "metadata": {
        "id": "6UaFNnyPGZrl"
      }
    },
    {
      "cell_type": "code",
      "source": [
        "# Мы пользуемся методами clip_grad_norm_() или clip_grad_value_() для ограничения нормы градиентов или их значений.\n",
        "\n",
        "import torch\n",
        "import torch.nn as nn\n",
        "\n",
        "# Создаем модель\n",
        "model = nn.Sequential(\n",
        "    nn.Linear(10, 5),\n",
        "    nn.ReLU(),\n",
        "    nn.Linear(5, 1)\n",
        ")\n",
        "\n",
        "# Определяем функцию потерь\n",
        "criterion = nn.MSELoss()\n",
        "\n",
        "# Задаем оптимизатор\n",
        "optimizer = torch.optim.SGD(model.parameters(), lr=0.01)\n",
        "\n",
        "# Задаем параметры gradient clipping\n",
        "max_grad_norm = 1.0  # Максимальная допустимая норма градиентов\n",
        "clip_type = 'norm'  # Может быть 'norm' или 'value'\n",
        "\n",
        "# Пример обучения с gradient clipping\n",
        "inputs = torch.randn(1, 10)\n",
        "targets = torch.randn(1, 1)\n",
        "\n",
        "# Прямой проход\n",
        "outputs = model(inputs)\n",
        "loss = criterion(outputs, targets)\n",
        "\n",
        "# Обратное распространение ошибки\n",
        "optimizer.zero_grad()\n",
        "loss.backward()\n",
        "\n",
        "# Применение gradient clipping\n",
        "if clip_type == 'norm':\n",
        "    torch.nn.utils.clip_grad_norm_(model.parameters(), max_grad_norm)\n",
        "elif clip_type == 'value':\n",
        "    torch.nn.utils.clip_grad_value_(model.parameters(), max_grad_norm)\n",
        "\n",
        "# Обновление весов\n",
        "optimizer.step()\n",
        "\n"
      ],
      "metadata": {
        "id": "-eP5VtEQCAQR"
      },
      "execution_count": null,
      "outputs": []
    },
    {
      "cell_type": "markdown",
      "source": [
        "### Dropout в PyTorch"
      ],
      "metadata": {
        "id": "anhZ-8dfHnI0"
      }
    },
    {
      "cell_type": "code",
      "source": [
        "# Пример архитектуры с Dropout-слоями\n",
        "\n",
        "class ExampleModel(nn.Module):\n",
        "    def __init__(self):\n",
        "        super().__init__()\n",
        "        self.layer1 = nn.Linear(60, 60)\n",
        "        self.act1 = nn.ReLU()\n",
        "        self.dropout1 = nn.Dropout(0.2)\n",
        "        self.layer2 = nn.Linear(60, 30)\n",
        "        self.act2 = nn.ReLU()\n",
        "        self.dropout2 = nn.Dropout(0.2)\n",
        "        self.output = nn.Linear(30, 1)\n",
        "        self.sigmoid = nn.Sigmoid()\n",
        "\n",
        "    def forward(self, x):\n",
        "        x = self.act1(self.layer1(x))\n",
        "        x = self.dropout1(x)\n",
        "        x = self.act2(self.layer2(x))\n",
        "        x = self.dropout2(x)\n",
        "        x = self.sigmoid(self.output(x))\n",
        "        return x"
      ],
      "metadata": {
        "id": "_ZzV3hdhCASG"
      },
      "execution_count": null,
      "outputs": []
    },
    {
      "cell_type": "markdown",
      "source": [
        "### BatchNorm в PyTorch"
      ],
      "metadata": {
        "id": "SVgYBH9kIFJ8"
      }
    },
    {
      "cell_type": "code",
      "source": [
        "# Слой BatchNorm\n",
        "m = nn.BatchNorm2d(num_features=100)\n",
        "\n",
        "input = torch.randn(20, 100, 35, 45)\n",
        "output = m(input)"
      ],
      "metadata": {
        "id": "EMxg6dV6HrV3"
      },
      "execution_count": null,
      "outputs": []
    },
    {
      "cell_type": "code",
      "source": [],
      "metadata": {
        "id": "2FMCo9eIHrYD"
      },
      "execution_count": null,
      "outputs": []
    },
    {
      "cell_type": "code",
      "source": [],
      "metadata": {
        "id": "1wtJzkJHHraD"
      },
      "execution_count": null,
      "outputs": []
    },
    {
      "cell_type": "code",
      "source": [],
      "metadata": {
        "id": "L6chtoZOHreo"
      },
      "execution_count": null,
      "outputs": []
    }
  ]
}