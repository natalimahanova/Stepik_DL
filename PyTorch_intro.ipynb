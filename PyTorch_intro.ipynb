{
  "nbformat": 4,
  "nbformat_minor": 0,
  "metadata": {
    "colab": {
      "provenance": []
    },
    "kernelspec": {
      "name": "python3",
      "display_name": "Python 3"
    },
    "language_info": {
      "name": "python"
    }
  },
  "cells": [
    {
      "cell_type": "markdown",
      "source": [
        "# Введение PyTorch"
      ],
      "metadata": {
        "id": "v7iRTKYojkMa"
      }
    },
    {
      "cell_type": "markdown",
      "source": [
        "В данном ноутбуке мы познакомимся с фреймворком PyTorch"
      ],
      "metadata": {
        "id": "X6jv_RPojsRy"
      }
    },
    {
      "cell_type": "markdown",
      "source": [
        "## Импорт библиотек"
      ],
      "metadata": {
        "id": "IqhUNgJCkN-v"
      }
    },
    {
      "cell_type": "code",
      "source": [
        "import numpy as np\n",
        "import torch"
      ],
      "metadata": {
        "id": "VjmmNJaXkQB0"
      },
      "execution_count": 1,
      "outputs": []
    },
    {
      "cell_type": "code",
      "source": [
        "from IPython.display import display"
      ],
      "metadata": {
        "id": "vXAkWVc1zyPu"
      },
      "execution_count": 2,
      "outputs": []
    },
    {
      "cell_type": "markdown",
      "source": [
        "## PyTorch vs NumPy"
      ],
      "metadata": {
        "id": "AUR0QGLGkIcf"
      }
    },
    {
      "cell_type": "markdown",
      "source": [
        "Интерфейс `PyTorch` реализован подобно интерфесу `NumPy` для удобства использования. Главное различие между ними, что `NumPy` оперрирует `numpy.ndarray` массивами, а `PyTorch` &mdash; тензорами `pytorch.Tensor`. Напишем одни и те же операции на `NumPy` и `PyTorch`."
      ],
      "metadata": {
        "id": "3GX2pr_wj5gK"
      }
    },
    {
      "cell_type": "markdown",
      "source": [
        "### NumPy"
      ],
      "metadata": {
        "id": "kzjvFvSJxiIA"
      }
    },
    {
      "cell_type": "code",
      "execution_count": 3,
      "metadata": {
        "id": "CgJyQ6pnKHDs"
      },
      "outputs": [],
      "source": [
        "x = np.arange(16).reshape(4, 4)"
      ]
    },
    {
      "cell_type": "code",
      "source": [
        "print(f\"Матрица X:\\n{x}\\n\")\n",
        "print(f\"Размер: {x.shape}\\n\")\n",
        "print(f\"Добавление константы:\\n{x + 5}\\n\")\n",
        "print(f\"X*X^T:\\n{np.dot(x, x.T)}\\n\")\n",
        "print(f\"Среднее по колонкам:\\n{x.mean(axis=-1)}\\n\")\n",
        "print(f\"Кумулятивная сумма по колонкам:\\n{np.cumsum(x, axis=0)}\\n\")"
      ],
      "metadata": {
        "id": "p_bSfIKJxv-i",
        "outputId": "037c95d2-aa36-40a2-be11-2ebf2b312377",
        "colab": {
          "base_uri": "https://localhost:8080/"
        }
      },
      "execution_count": 4,
      "outputs": [
        {
          "output_type": "stream",
          "name": "stdout",
          "text": [
            "Матрица X:\n",
            "[[ 0  1  2  3]\n",
            " [ 4  5  6  7]\n",
            " [ 8  9 10 11]\n",
            " [12 13 14 15]]\n",
            "\n",
            "Размер: (4, 4)\n",
            "\n",
            "Добавление константы:\n",
            "[[ 5  6  7  8]\n",
            " [ 9 10 11 12]\n",
            " [13 14 15 16]\n",
            " [17 18 19 20]]\n",
            "\n",
            "X*X^T:\n",
            "[[ 14  38  62  86]\n",
            " [ 38 126 214 302]\n",
            " [ 62 214 366 518]\n",
            " [ 86 302 518 734]]\n",
            "\n",
            "Среднее по колонкам:\n",
            "[ 1.5  5.5  9.5 13.5]\n",
            "\n",
            "Кумулятивная сумма по колонкам:\n",
            "[[ 0  1  2  3]\n",
            " [ 4  6  8 10]\n",
            " [12 15 18 21]\n",
            " [24 28 32 36]]\n",
            "\n"
          ]
        }
      ]
    },
    {
      "cell_type": "markdown",
      "source": [
        "### PyTorch"
      ],
      "metadata": {
        "id": "4nGmkEzSxi0y"
      }
    },
    {
      "cell_type": "code",
      "source": [
        "x = np.arange(16).reshape(4, 4)\n",
        "x = torch.tensor(x, dtype=torch.float32)\n",
        "\n",
        "display(x, x.dtype)"
      ],
      "metadata": {
        "id": "tD_D6ebPzI3X",
        "outputId": "aad8dfb3-e613-4db9-af37-fa568356a2a5",
        "colab": {
          "base_uri": "https://localhost:8080/",
          "height": 108
        }
      },
      "execution_count": 5,
      "outputs": [
        {
          "output_type": "display_data",
          "data": {
            "text/plain": [
              "tensor([[ 0.,  1.,  2.,  3.],\n",
              "        [ 4.,  5.,  6.,  7.],\n",
              "        [ 8.,  9., 10., 11.],\n",
              "        [12., 13., 14., 15.]])"
            ]
          },
          "metadata": {}
        },
        {
          "output_type": "display_data",
          "data": {
            "text/plain": [
              "torch.float32"
            ]
          },
          "metadata": {}
        }
      ]
    },
    {
      "cell_type": "markdown",
      "source": [
        "ИЛИ"
      ],
      "metadata": {
        "id": "5yRYitHb38wZ"
      }
    },
    {
      "cell_type": "code",
      "source": [
        "x = torch.arange(0, 16, dtype=torch.float32).view(4, 4)\n",
        "\n",
        "display(x, x.dtype)"
      ],
      "metadata": {
        "id": "cBB8PUDdzLEe",
        "outputId": "9549e20c-bbc4-42cb-957f-c07542ef8b36",
        "colab": {
          "base_uri": "https://localhost:8080/",
          "height": 108
        }
      },
      "execution_count": 6,
      "outputs": [
        {
          "output_type": "display_data",
          "data": {
            "text/plain": [
              "tensor([[ 0.,  1.,  2.,  3.],\n",
              "        [ 4.,  5.,  6.,  7.],\n",
              "        [ 8.,  9., 10., 11.],\n",
              "        [12., 13., 14., 15.]])"
            ]
          },
          "metadata": {}
        },
        {
          "output_type": "display_data",
          "data": {
            "text/plain": [
              "torch.float32"
            ]
          },
          "metadata": {}
        }
      ]
    },
    {
      "cell_type": "code",
      "source": [
        "print(f\"Матрица X:\\n{x}\\n\")\n",
        "print(f\"Размер: {x.shape}\\n\")\n",
        "print(f\"Добавление константы:\\n{x + 5}\")\n",
        "print(f\"X*X^T:\\n{torch.matmul(x, x.transpose(1, 0))}\\n\")  # кратко: x.mm(x.t())\n",
        "print(f\"Среднее по колонкам:\\n{torch.mean(x, dim=-1)}\\n\")\n",
        "print(f\"Кумулятивная сумма по колонкам:\\n{torch.cumsum(x, dim=0)}\")"
      ],
      "metadata": {
        "id": "C74kwqj4xljP",
        "outputId": "38b0c2eb-3ca0-43be-fc5f-aac072acbb61",
        "colab": {
          "base_uri": "https://localhost:8080/"
        }
      },
      "execution_count": 7,
      "outputs": [
        {
          "output_type": "stream",
          "name": "stdout",
          "text": [
            "Матрица X:\n",
            "tensor([[ 0.,  1.,  2.,  3.],\n",
            "        [ 4.,  5.,  6.,  7.],\n",
            "        [ 8.,  9., 10., 11.],\n",
            "        [12., 13., 14., 15.]])\n",
            "\n",
            "Размер: torch.Size([4, 4])\n",
            "\n",
            "Добавление константы:\n",
            "tensor([[ 5.,  6.,  7.,  8.],\n",
            "        [ 9., 10., 11., 12.],\n",
            "        [13., 14., 15., 16.],\n",
            "        [17., 18., 19., 20.]])\n",
            "X*X^T:\n",
            "tensor([[ 14.,  38.,  62.,  86.],\n",
            "        [ 38., 126., 214., 302.],\n",
            "        [ 62., 214., 366., 518.],\n",
            "        [ 86., 302., 518., 734.]])\n",
            "\n",
            "Среднее по колонкам:\n",
            "tensor([ 1.5000,  5.5000,  9.5000, 13.5000])\n",
            "\n",
            "Кумулятивная сумма по колонкам:\n",
            "tensor([[ 0.,  1.,  2.,  3.],\n",
            "        [ 4.,  6.,  8., 10.],\n",
            "        [12., 15., 18., 21.],\n",
            "        [24., 28., 32., 36.]])\n"
          ]
        }
      ]
    },
    {
      "cell_type": "markdown",
      "source": [
        "Заметим, что некоторые названия методов отличаются и полной совместимости библиотек пока нет, и придется сново запоминать новые названия для некоторых функций.\n",
        "\n",
        "Например, PyTorch имеет другое написание стандартных типов\n",
        " * `x.astype('int64') -> x.type(torch.LongTensor)`\n",
        "\n",
        "\n",
        "Для более подробного ознакомления можно посмотреть на [таблицу](https://github.com/torch/torch7/wiki/Torch-for-Numpy-users) перевода методов из NumPy в PyTorch, а также заглянуть в [документацию](http://pytorch.org/docs/master/)."
      ],
      "metadata": {
        "id": "FWh2qa6c4Cjj"
      }
    },
    {
      "cell_type": "markdown",
      "source": [
        "### Конвертация из NumPy в PyTorch (и обратно)"
      ],
      "metadata": {
        "id": "efkI6qBz44dO"
      }
    },
    {
      "cell_type": "markdown",
      "source": [
        "Можно переводить numpy-массив в torch-тензор и наоборот."
      ],
      "metadata": {
        "id": "BMhVp__k48nZ"
      }
    },
    {
      "cell_type": "markdown",
      "source": [
        "Например, сделаем из numpy-массива torch-тензор"
      ],
      "metadata": {
        "id": "O083QgF54_e4"
      }
    },
    {
      "cell_type": "code",
      "source": [
        "# зададим numpy массив\n",
        "x_np = np.array([2, 5, 7, 1])\n",
        "\n",
        "# 1-й способ\n",
        "x_torch = torch.tensor(x_np)\n",
        "print(type(x_torch), x_torch)\n",
        "\n",
        "# 2-й способ\n",
        "x_torch = torch.from_numpy(x_np)\n",
        "print(type(x_torch), x_torch)"
      ],
      "metadata": {
        "id": "EzSthgTf4t_r",
        "outputId": "f45de4e2-1dcf-4c04-bcb8-16f8cb5cd5ac",
        "colab": {
          "base_uri": "https://localhost:8080/"
        }
      },
      "execution_count": 8,
      "outputs": [
        {
          "output_type": "stream",
          "name": "stdout",
          "text": [
            "<class 'torch.Tensor'> tensor([2, 5, 7, 1])\n",
            "<class 'torch.Tensor'> tensor([2, 5, 7, 1])\n"
          ]
        }
      ]
    },
    {
      "cell_type": "markdown",
      "source": [
        "Аналогично и с переводом обратно:  \n",
        "функция `x.numpy()` переведет torch-тензор `x` в numpy-массив, причем типы переведутся соответственно таблице"
      ],
      "metadata": {
        "id": "hemVBU8O5Y-h"
      }
    },
    {
      "cell_type": "code",
      "source": [
        "x_np = x_torch.numpy()\n",
        "print(type(x_np), x_np)"
      ],
      "metadata": {
        "id": "ofvpKBik5e_z",
        "outputId": "086cc1ec-6b80-4de3-fd76-9b918415bce0",
        "colab": {
          "base_uri": "https://localhost:8080/"
        }
      },
      "execution_count": 9,
      "outputs": [
        {
          "output_type": "stream",
          "name": "stdout",
          "text": [
            "<class 'numpy.ndarray'> [2 5 7 1]\n"
          ]
        }
      ]
    },
    {
      "cell_type": "markdown",
      "source": [
        "## Создание и инициализация тензоров"
      ],
      "metadata": {
        "id": "ZLuswZ7H69st"
      }
    },
    {
      "cell_type": "markdown",
      "source": [
        "### Создание тензоров"
      ],
      "metadata": {
        "id": "6S3kwInyIeiP"
      }
    },
    {
      "cell_type": "code",
      "source": [
        "x = torch.tensor([ [0,1,2], [3,4,6] ])\n",
        "x"
      ],
      "metadata": {
        "id": "GNjd5OQa7DMN",
        "outputId": "7f51a7ee-5037-42f3-84b6-2533ebf1480a",
        "colab": {
          "base_uri": "https://localhost:8080/"
        }
      },
      "execution_count": 10,
      "outputs": [
        {
          "output_type": "execute_result",
          "data": {
            "text/plain": [
              "tensor([[0, 1, 2],\n",
              "        [3, 4, 6]])"
            ]
          },
          "metadata": {},
          "execution_count": 10
        }
      ]
    },
    {
      "cell_type": "markdown",
      "source": [
        "Тензор можно создавать при помощи конструкторов. Доступны следующие типы:  \n",
        "\n",
        "\n",
        "*  HalfTensor   - `float16`\n",
        "*  FloatTensor  - `float32`\n",
        "*  DoubleTensor - `float64`\n",
        "\n",
        "\n",
        "*  ShortTensor  - `int16`\n",
        "*  IntTensor    - `int32`\n",
        "*  LongTensor   - `int64`\n",
        "*  CharTensor   - `int8`\n",
        "\n",
        "\n",
        "*  ByteTensor   - `uint8`\n",
        "*  BoolTensor   - `bool`"
      ],
      "metadata": {
        "id": "gb7nwuX0A4U8"
      }
    },
    {
      "cell_type": "code",
      "source": [
        "x = torch.Tensor(2, 4)\n",
        "x, x.dtype"
      ],
      "metadata": {
        "id": "pOoxg1eGDL1N",
        "outputId": "0d2c88ce-daee-4bb9-b3d7-358eaaf0783d",
        "colab": {
          "base_uri": "https://localhost:8080/"
        }
      },
      "execution_count": 11,
      "outputs": [
        {
          "output_type": "execute_result",
          "data": {
            "text/plain": [
              "(tensor([[-8.0680e+27,  4.5132e-41, -4.5427e+14,  3.3270e-41],\n",
              "         [ 4.4842e-44,  0.0000e+00,  1.7937e-43,  0.0000e+00]]),\n",
              " torch.float32)"
            ]
          },
          "metadata": {},
          "execution_count": 11
        }
      ]
    },
    {
      "cell_type": "code",
      "source": [
        "x = torch.FloatTensor(2, 4)\n",
        "display(x)\n",
        "display(x.dtype)"
      ],
      "metadata": {
        "id": "KcPYl0olJpEx",
        "outputId": "d64c0045-8a61-4ccc-a473-9dc33cad702b",
        "colab": {
          "base_uri": "https://localhost:8080/",
          "height": 72
        }
      },
      "execution_count": 12,
      "outputs": [
        {
          "output_type": "display_data",
          "data": {
            "text/plain": [
              "tensor([[ 1.4013e-45,  4.5130e-41, -4.6520e+27,  4.5132e-41],\n",
              "        [-7.1295e+09,  4.5132e-41,  1.4013e-45,  4.5132e-41]])"
            ]
          },
          "metadata": {}
        },
        {
          "output_type": "display_data",
          "data": {
            "text/plain": [
              "torch.float32"
            ]
          },
          "metadata": {}
        }
      ]
    },
    {
      "cell_type": "code",
      "source": [
        "x = torch.HalfTensor(2, 4)\n",
        "display(x)\n",
        "display(x.dtype)"
      ],
      "metadata": {
        "id": "1-b709VzJrjW",
        "outputId": "40f131b1-eacf-4f37-e14a-979a047230a0",
        "colab": {
          "base_uri": "https://localhost:8080/",
          "height": 90
        }
      },
      "execution_count": 13,
      "outputs": [
        {
          "output_type": "display_data",
          "data": {
            "text/plain": [
              "tensor([[ 2.4219e-01, -1.2494e+02,  3.0350e+02,  0.0000e+00],\n",
              "        [ 6.5625e+00, -1.2494e+02,  3.0350e+02,  0.0000e+00]],\n",
              "       dtype=torch.float16)"
            ]
          },
          "metadata": {}
        },
        {
          "output_type": "display_data",
          "data": {
            "text/plain": [
              "torch.float16"
            ]
          },
          "metadata": {}
        }
      ]
    },
    {
      "cell_type": "code",
      "source": [
        "x = torch.DoubleTensor(2, 4)\n",
        "display(x)\n",
        "display(x.dtype)"
      ],
      "metadata": {
        "id": "Lwv584OgJvnu",
        "outputId": "6fc2eb37-cba2-4e1f-cd56-84dd1614c9ba",
        "colab": {
          "base_uri": "https://localhost:8080/",
          "height": 90
        }
      },
      "execution_count": 14,
      "outputs": [
        {
          "output_type": "display_data",
          "data": {
            "text/plain": [
              "tensor([[5.0382e-310, 6.8343e-310, 4.9407e-324, 2.9644e-323],\n",
              "        [ 0.0000e+00,  0.0000e+00,  0.0000e+00,  0.0000e+00]],\n",
              "       dtype=torch.float64)"
            ]
          },
          "metadata": {}
        },
        {
          "output_type": "display_data",
          "data": {
            "text/plain": [
              "torch.float64"
            ]
          },
          "metadata": {}
        }
      ]
    },
    {
      "cell_type": "code",
      "source": [
        "x = torch.IntTensor(2, 4)\n",
        "display(x)\n",
        "display(x.dtype)"
      ],
      "metadata": {
        "id": "PjOlDAiAJxp7",
        "outputId": "f861010f-73c7-4a3f-f8f3-9fb486fd63f5",
        "colab": {
          "base_uri": "https://localhost:8080/",
          "height": 72
        }
      },
      "execution_count": 15,
      "outputs": [
        {
          "output_type": "display_data",
          "data": {
            "text/plain": [
              "tensor([[0, 0, 0, 0],\n",
              "        [0, 0, 0, 0]], dtype=torch.int32)"
            ]
          },
          "metadata": {}
        },
        {
          "output_type": "display_data",
          "data": {
            "text/plain": [
              "torch.int32"
            ]
          },
          "metadata": {}
        }
      ]
    },
    {
      "cell_type": "code",
      "source": [
        "x = torch.ShortTensor(2, 4)\n",
        "display(x)\n",
        "display(x.dtype)"
      ],
      "metadata": {
        "id": "HGUFWjtJJ0Bv",
        "outputId": "1ba326fb-64b6-45fb-801d-6c0f33194678",
        "colab": {
          "base_uri": "https://localhost:8080/",
          "height": 72
        }
      },
      "execution_count": 16,
      "outputs": [
        {
          "output_type": "display_data",
          "data": {
            "text/plain": [
              "tensor([[-29344,  -4656,  32207,      0],\n",
              "        [ 10736, -10289,  23742,      0]], dtype=torch.int16)"
            ]
          },
          "metadata": {}
        },
        {
          "output_type": "display_data",
          "data": {
            "text/plain": [
              "torch.int16"
            ]
          },
          "metadata": {}
        }
      ]
    },
    {
      "cell_type": "code",
      "source": [
        "x = torch.LongTensor(2, 4)\n",
        "display(x)\n",
        "display(x.dtype)"
      ],
      "metadata": {
        "id": "0hpFTvmXJ_wi",
        "outputId": "d7663163-c757-4734-b9c4-3557f179f0cc",
        "colab": {
          "base_uri": "https://localhost:8080/",
          "height": 72
        }
      },
      "execution_count": 17,
      "outputs": [
        {
          "output_type": "display_data",
          "data": {
            "text/plain": [
              "tensor([[138332001570192, 101974734213808, 101974734214512, 101974734217344],\n",
              "        [              0, 101974734184192, 101974712191392, 138327991130192]])"
            ]
          },
          "metadata": {}
        },
        {
          "output_type": "display_data",
          "data": {
            "text/plain": [
              "torch.int64"
            ]
          },
          "metadata": {}
        }
      ]
    },
    {
      "cell_type": "markdown",
      "source": [
        "Тип элементов можно также указывать в методе `empty()` или функциях инициализации"
      ],
      "metadata": {
        "id": "8KHJNM6ZIYiX"
      }
    },
    {
      "cell_type": "code",
      "source": [
        "x_1 = torch.empty(2,3, dtype=torch.float64)\n",
        "x_2 = torch.empty(2,3, dtype=torch.double)\n",
        "y_1 = torch.zeros(2,3, dtype=torch.int64)\n",
        "y_2 = torch.zeros(2,3, dtype=torch.long)\n",
        "\n",
        "x_1, x_2, y_1, y_2"
      ],
      "metadata": {
        "id": "bTmv8QCIHyMZ",
        "outputId": "8d27eadc-8d7b-45da-b175-85c4e9ace330",
        "colab": {
          "base_uri": "https://localhost:8080/"
        }
      },
      "execution_count": 18,
      "outputs": [
        {
          "output_type": "execute_result",
          "data": {
            "text/plain": [
              "(tensor([[6.8345e-310, 6.8345e-310,  0.0000e+00],\n",
              "         [7.1640e-322, 5.0382e-310, 5.0382e-310]], dtype=torch.float64),\n",
              " tensor([[6.8345e-310, 5.0382e-310, 5.0382e-310],\n",
              "         [5.0382e-310,  0.0000e+00, 5.0382e-310]], dtype=torch.float64),\n",
              " tensor([[0, 0, 0],\n",
              "         [0, 0, 0]]),\n",
              " tensor([[0, 0, 0],\n",
              "         [0, 0, 0]]))"
            ]
          },
          "metadata": {},
          "execution_count": 18
        }
      ]
    },
    {
      "cell_type": "markdown",
      "source": [
        "Размер элемента"
      ],
      "metadata": {
        "id": "UNAUkHUaKNdG"
      }
    },
    {
      "cell_type": "code",
      "source": [
        "y_2.element_size()"
      ],
      "metadata": {
        "id": "r6BwSOleIBqw",
        "outputId": "c6ac864f-48f7-4694-e720-32bfbaa86195",
        "colab": {
          "base_uri": "https://localhost:8080/"
        }
      },
      "execution_count": 19,
      "outputs": [
        {
          "output_type": "execute_result",
          "data": {
            "text/plain": [
              "8"
            ]
          },
          "metadata": {},
          "execution_count": 19
        }
      ]
    },
    {
      "cell_type": "markdown",
      "source": [
        "### Инициализация значений"
      ],
      "metadata": {
        "id": "txN0sGm5ITJu"
      }
    },
    {
      "cell_type": "code",
      "source": [
        "y = torch.zeros (2, 3)                   # матрица 2x3 из нулей  типа float32\n",
        "x = torch.zeros_like(y)                  # такой же формы как y из нулей\n",
        "\n",
        "x = torch.ones (2, 3)                    # матрица 2x3 из единиц\n",
        "x = torch.ones_like(y)                   # такой же формы как y из единиц\n",
        "\n",
        "x = torch.full((2, 3), 3.14159265)       # заполнить матрицу 2x3 числом pi\n",
        "\n",
        "x = torch.eye   (3)                      # единичная матрица 3x3\n",
        "x = torch.eye   (2,3)                    # \"единичная\" не квадратная [[1., 0., 0.],\n",
        "                                         #                            [0., 1., 0.]]\n",
        "x = torch.linspace(0,2,5)                # [0.0,0.5,1.0,1.5,2.0] [beg,end], num\n",
        "\n",
        "x = torch.rand (2, 3)                    # 2x3 равномерно случ.матрица [0...1]\n",
        "x = torch.randn(2, 3)                    # 2x3 нормально  случ.матрица (mean=0, var=1)\n",
        "\n",
        "x = torch.empty(3).uniform_(0, 1)        # вектор с равномерным распределением [0..1]\n",
        "x = torch.empty(3).normal_(mean=0,std=1) # вектор с нормальным распределением"
      ],
      "metadata": {
        "id": "KFvsy6zGIVwq"
      },
      "execution_count": 20,
      "outputs": []
    },
    {
      "cell_type": "code",
      "source": [
        "x = torch.arange(4)                      # [0,1,2,3]             [0,end)\n",
        "x = torch.arange(2, 14, 3)               # [2,5,8,11]            [beg,end), step\n",
        "\n",
        "x = torch.randperm(10)                   # [8,6,9,3,5,0,1,4,7,2] - случ.перестановка\n",
        "x = torch.randint (1, 10, (2,3))         # 2x3 случ.целых из интервала [1...10)"
      ],
      "metadata": {
        "id": "YLpoMhpeInvP"
      },
      "execution_count": 21,
      "outputs": []
    },
    {
      "cell_type": "markdown",
      "source": [
        "## Операции над тензорами"
      ],
      "metadata": {
        "id": "jPeYkgpVQ5Td"
      }
    },
    {
      "cell_type": "markdown",
      "source": [
        "### Арифметические операции"
      ],
      "metadata": {
        "id": "_IChOi6ZSUyt"
      }
    },
    {
      "cell_type": "code",
      "source": [
        "x = torch.ones(2, 3).to(torch.int32)\n",
        "x"
      ],
      "metadata": {
        "id": "TZ69QBO3Q8PO",
        "outputId": "5daaf676-f938-413c-e1e6-73f225139739",
        "colab": {
          "base_uri": "https://localhost:8080/"
        }
      },
      "execution_count": 22,
      "outputs": [
        {
          "output_type": "execute_result",
          "data": {
            "text/plain": [
              "tensor([[1, 1, 1],\n",
              "        [1, 1, 1]], dtype=torch.int32)"
            ]
          },
          "metadata": {},
          "execution_count": 22
        }
      ]
    },
    {
      "cell_type": "code",
      "source": [
        "y = x * -1\n",
        "y"
      ],
      "metadata": {
        "id": "matiBGufQ8s7",
        "outputId": "7841d00a-7b3a-44f9-bf9f-cca52e806d74",
        "colab": {
          "base_uri": "https://localhost:8080/"
        }
      },
      "execution_count": 23,
      "outputs": [
        {
          "output_type": "execute_result",
          "data": {
            "text/plain": [
              "tensor([[-1, -1, -1],\n",
              "        [-1, -1, -1]], dtype=torch.int32)"
            ]
          },
          "metadata": {},
          "execution_count": 23
        }
      ]
    },
    {
      "cell_type": "code",
      "source": [
        "# x.add(y)\n",
        "x + y"
      ],
      "metadata": {
        "id": "_WwhKdEDQ8qg",
        "outputId": "154358d6-5c6e-4f98-9869-070544968c2c",
        "colab": {
          "base_uri": "https://localhost:8080/"
        }
      },
      "execution_count": 24,
      "outputs": [
        {
          "output_type": "execute_result",
          "data": {
            "text/plain": [
              "tensor([[0, 0, 0],\n",
              "        [0, 0, 0]], dtype=torch.int32)"
            ]
          },
          "metadata": {},
          "execution_count": 24
        }
      ]
    },
    {
      "cell_type": "code",
      "source": [
        "# x.sub(y)\n",
        "x - y"
      ],
      "metadata": {
        "id": "AHwX-dVQQ8n5",
        "outputId": "cef68742-9a2f-4d59-c9ad-8b602efc2ba0",
        "colab": {
          "base_uri": "https://localhost:8080/"
        }
      },
      "execution_count": 25,
      "outputs": [
        {
          "output_type": "execute_result",
          "data": {
            "text/plain": [
              "tensor([[2, 2, 2],\n",
              "        [2, 2, 2]], dtype=torch.int32)"
            ]
          },
          "metadata": {},
          "execution_count": 25
        }
      ]
    },
    {
      "cell_type": "code",
      "source": [
        "# x.mul(y)\n",
        "x * y"
      ],
      "metadata": {
        "id": "UspLITsRRNKk",
        "outputId": "686113dc-6ed1-4679-d34e-57bccd6b895e",
        "colab": {
          "base_uri": "https://localhost:8080/"
        }
      },
      "execution_count": 26,
      "outputs": [
        {
          "output_type": "execute_result",
          "data": {
            "text/plain": [
              "tensor([[-1, -1, -1],\n",
              "        [-1, -1, -1]], dtype=torch.int32)"
            ]
          },
          "metadata": {},
          "execution_count": 26
        }
      ]
    },
    {
      "cell_type": "code",
      "source": [
        "# x.div(y)\n",
        "x / y"
      ],
      "metadata": {
        "id": "_QZR3rHwRNH1",
        "outputId": "f62dd31b-f53c-44cc-de4b-6cddf110dc7a",
        "colab": {
          "base_uri": "https://localhost:8080/"
        }
      },
      "execution_count": 27,
      "outputs": [
        {
          "output_type": "execute_result",
          "data": {
            "text/plain": [
              "tensor([[-1., -1., -1.],\n",
              "        [-1., -1., -1.]])"
            ]
          },
          "metadata": {},
          "execution_count": 27
        }
      ]
    },
    {
      "cell_type": "code",
      "source": [
        "a = x.detach().clone()\n",
        "a"
      ],
      "metadata": {
        "id": "F6GYk85GRNCd",
        "outputId": "84ba872c-6033-46b3-c28f-9e76d1908ab0",
        "colab": {
          "base_uri": "https://localhost:8080/"
        }
      },
      "execution_count": 28,
      "outputs": [
        {
          "output_type": "execute_result",
          "data": {
            "text/plain": [
              "tensor([[1, 1, 1],\n",
              "        [1, 1, 1]], dtype=torch.int32)"
            ]
          },
          "metadata": {},
          "execution_count": 28
        }
      ]
    },
    {
      "cell_type": "code",
      "source": [
        "a.add_(y)\n",
        "a"
      ],
      "metadata": {
        "id": "Hle7pN7URM9B",
        "outputId": "f44a5af9-9b02-4ea4-865f-ac187093f44f",
        "colab": {
          "base_uri": "https://localhost:8080/"
        }
      },
      "execution_count": 29,
      "outputs": [
        {
          "output_type": "execute_result",
          "data": {
            "text/plain": [
              "tensor([[0, 0, 0],\n",
              "        [0, 0, 0]], dtype=torch.int32)"
            ]
          },
          "metadata": {},
          "execution_count": 29
        }
      ]
    },
    {
      "cell_type": "code",
      "source": [
        "# `x` не изменился, потому что его \"склонировали\" в `a`\n",
        "x"
      ],
      "metadata": {
        "id": "oVwDJjiIRM5L",
        "outputId": "a4f1527f-a187-42cf-e3d6-591fc63025b6",
        "colab": {
          "base_uri": "https://localhost:8080/"
        }
      },
      "execution_count": 30,
      "outputs": [
        {
          "output_type": "execute_result",
          "data": {
            "text/plain": [
              "tensor([[1, 1, 1],\n",
              "        [1, 1, 1]], dtype=torch.int32)"
            ]
          },
          "metadata": {},
          "execution_count": 30
        }
      ]
    },
    {
      "cell_type": "code",
      "source": [
        "y.abs_()\n",
        "y"
      ],
      "metadata": {
        "id": "mWoy3UIzTo6c",
        "outputId": "26619252-b87b-4928-84f3-7eb1420c2451",
        "colab": {
          "base_uri": "https://localhost:8080/"
        }
      },
      "execution_count": 31,
      "outputs": [
        {
          "output_type": "execute_result",
          "data": {
            "text/plain": [
              "tensor([[1, 1, 1],\n",
              "        [1, 1, 1]], dtype=torch.int32)"
            ]
          },
          "metadata": {},
          "execution_count": 31
        }
      ]
    },
    {
      "cell_type": "markdown",
      "source": [
        "### Логические операции"
      ],
      "metadata": {
        "id": "ZomTfPPOSX-E"
      }
    },
    {
      "cell_type": "code",
      "source": [
        "z = torch.FloatTensor(\n",
        "    [\n",
        "     [-1, 1, 1],\n",
        "     [2, -1, -1]\n",
        "    ]\n",
        ")\n",
        "z"
      ],
      "metadata": {
        "id": "iK8Om9mbSbEC",
        "outputId": "4d1bfffa-ab2d-4f63-97ec-5b82bc1a5994",
        "colab": {
          "base_uri": "https://localhost:8080/"
        }
      },
      "execution_count": 32,
      "outputs": [
        {
          "output_type": "execute_result",
          "data": {
            "text/plain": [
              "tensor([[-1.,  1.,  1.],\n",
              "        [ 2., -1., -1.]])"
            ]
          },
          "metadata": {},
          "execution_count": 32
        }
      ]
    },
    {
      "cell_type": "code",
      "source": [
        "x > z"
      ],
      "metadata": {
        "id": "8Fo1v4h8SbA3",
        "outputId": "f146ded4-ff83-4be7-8e9d-88bccefa3955",
        "colab": {
          "base_uri": "https://localhost:8080/"
        }
      },
      "execution_count": 33,
      "outputs": [
        {
          "output_type": "execute_result",
          "data": {
            "text/plain": [
              "tensor([[ True, False, False],\n",
              "        [False,  True,  True]])"
            ]
          },
          "metadata": {},
          "execution_count": 33
        }
      ]
    },
    {
      "cell_type": "code",
      "source": [
        "x == z"
      ],
      "metadata": {
        "id": "vtlyovjfSa9c",
        "outputId": "db454a0e-4417-438b-98fb-400d6e4668aa",
        "colab": {
          "base_uri": "https://localhost:8080/"
        }
      },
      "execution_count": 34,
      "outputs": [
        {
          "output_type": "execute_result",
          "data": {
            "text/plain": [
              "tensor([[False,  True,  True],\n",
              "        [False, False, False]])"
            ]
          },
          "metadata": {},
          "execution_count": 34
        }
      ]
    },
    {
      "cell_type": "code",
      "source": [
        "x != z"
      ],
      "metadata": {
        "id": "9gkh_41fShdW",
        "outputId": "d8bd0056-da45-463f-cc83-52cbc4672307",
        "colab": {
          "base_uri": "https://localhost:8080/"
        }
      },
      "execution_count": 35,
      "outputs": [
        {
          "output_type": "execute_result",
          "data": {
            "text/plain": [
              "tensor([[ True, False, False],\n",
              "        [ True,  True,  True]])"
            ]
          },
          "metadata": {},
          "execution_count": 35
        }
      ]
    },
    {
      "cell_type": "code",
      "source": [
        "mask = (x > z)\n",
        "mask"
      ],
      "metadata": {
        "id": "VSwI2SniTQGD",
        "outputId": "ea999272-eea3-4dd9-ca29-fcc9cfbbd8d2",
        "colab": {
          "base_uri": "https://localhost:8080/"
        }
      },
      "execution_count": 36,
      "outputs": [
        {
          "output_type": "execute_result",
          "data": {
            "text/plain": [
              "tensor([[ True, False, False],\n",
              "        [False,  True,  True]])"
            ]
          },
          "metadata": {},
          "execution_count": 36
        }
      ]
    },
    {
      "cell_type": "code",
      "source": [
        "x[mask]"
      ],
      "metadata": {
        "id": "HA6NS7cFTQDB",
        "outputId": "b40bff85-17de-4aad-f84b-212729d316cb",
        "colab": {
          "base_uri": "https://localhost:8080/"
        }
      },
      "execution_count": 37,
      "outputs": [
        {
          "output_type": "execute_result",
          "data": {
            "text/plain": [
              "tensor([1, 1, 1], dtype=torch.int32)"
            ]
          },
          "metadata": {},
          "execution_count": 37
        }
      ]
    },
    {
      "cell_type": "markdown",
      "source": [
        "### Скалярное произведение"
      ],
      "metadata": {
        "id": "apimkJ3KT1oG"
      }
    },
    {
      "cell_type": "code",
      "source": [
        "x = torch.arange(1, 4).reshape(1, 3)\n",
        "x"
      ],
      "metadata": {
        "id": "kOVtWUbpT1Fs",
        "outputId": "6edbebf1-37d0-4955-db64-71d0adfc31e8",
        "colab": {
          "base_uri": "https://localhost:8080/"
        }
      },
      "execution_count": 38,
      "outputs": [
        {
          "output_type": "execute_result",
          "data": {
            "text/plain": [
              "tensor([[1, 2, 3]])"
            ]
          },
          "metadata": {},
          "execution_count": 38
        }
      ]
    },
    {
      "cell_type": "code",
      "source": [
        "y = -1 * x\n",
        "y[0][1].abs_()\n",
        "y"
      ],
      "metadata": {
        "id": "-BjQcevEUXmA",
        "outputId": "bea4c215-de3b-4a50-bada-7dd9b4042d8d",
        "colab": {
          "base_uri": "https://localhost:8080/"
        }
      },
      "execution_count": 39,
      "outputs": [
        {
          "output_type": "execute_result",
          "data": {
            "text/plain": [
              "tensor([[-1,  2, -3]])"
            ]
          },
          "metadata": {},
          "execution_count": 39
        }
      ]
    },
    {
      "cell_type": "code",
      "source": [
        "x @ y.T"
      ],
      "metadata": {
        "id": "2_meJ7uAUpJM",
        "outputId": "ff96be2a-0cda-4128-a3c9-eb948c787fd8",
        "colab": {
          "base_uri": "https://localhost:8080/"
        }
      },
      "execution_count": 40,
      "outputs": [
        {
          "output_type": "execute_result",
          "data": {
            "text/plain": [
              "tensor([[-6]])"
            ]
          },
          "metadata": {},
          "execution_count": 40
        }
      ]
    },
    {
      "cell_type": "code",
      "source": [
        "torch.mm(x, y.T)"
      ],
      "metadata": {
        "id": "zI4dgqAKUo1c",
        "outputId": "6e3a4426-99d2-4fdd-ec86-6d93161c69ed",
        "colab": {
          "base_uri": "https://localhost:8080/"
        }
      },
      "execution_count": 41,
      "outputs": [
        {
          "output_type": "execute_result",
          "data": {
            "text/plain": [
              "tensor([[-6]])"
            ]
          },
          "metadata": {},
          "execution_count": 41
        }
      ]
    },
    {
      "cell_type": "markdown",
      "source": [
        "## Приведение типов"
      ],
      "metadata": {
        "id": "uv4vo0VVKEms"
      }
    },
    {
      "cell_type": "code",
      "source": [
        "a = torch.IntTensor([1, 4, -2])\n",
        "a"
      ],
      "metadata": {
        "id": "z0M1XBjtL3Vq",
        "outputId": "fad2b57a-124e-4bd1-a577-80f3347a8f68",
        "colab": {
          "base_uri": "https://localhost:8080/"
        }
      },
      "execution_count": 42,
      "outputs": [
        {
          "output_type": "execute_result",
          "data": {
            "text/plain": [
              "tensor([ 1,  4, -2], dtype=torch.int32)"
            ]
          },
          "metadata": {},
          "execution_count": 42
        }
      ]
    },
    {
      "cell_type": "code",
      "source": [
        "a = a.type_as(torch.HalfTensor())\n",
        "a"
      ],
      "metadata": {
        "id": "bQSj3redKE72",
        "outputId": "b5181262-2046-4d9d-c81f-86a8103a04cf",
        "colab": {
          "base_uri": "https://localhost:8080/"
        }
      },
      "execution_count": 43,
      "outputs": [
        {
          "output_type": "execute_result",
          "data": {
            "text/plain": [
              "tensor([ 1.,  4., -2.], dtype=torch.float16)"
            ]
          },
          "metadata": {},
          "execution_count": 43
        }
      ]
    },
    {
      "cell_type": "code",
      "source": [
        "a = a.to(torch.int32)\n",
        "a"
      ],
      "metadata": {
        "id": "D5-eJyVNMfrc",
        "outputId": "b7a90f43-ebf4-413c-f4d2-e73ca6cbacfc",
        "colab": {
          "base_uri": "https://localhost:8080/"
        }
      },
      "execution_count": 44,
      "outputs": [
        {
          "output_type": "execute_result",
          "data": {
            "text/plain": [
              "tensor([ 1,  4, -2], dtype=torch.int32)"
            ]
          },
          "metadata": {},
          "execution_count": 44
        }
      ]
    }
  ]
}